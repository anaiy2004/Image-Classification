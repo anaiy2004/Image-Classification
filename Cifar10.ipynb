{
  "nbformat": 4,
  "nbformat_minor": 0,
  "metadata": {
    "colab": {
      "name": "Cifar10Testing.ipynb",
      "provenance": [],
      "collapsed_sections": [],
      "authorship_tag": "ABX9TyNfDz1y5KWROGR7BVv93w7x",
      "include_colab_link": true
    },
    "kernelspec": {
      "name": "python3",
      "display_name": "Python 3"
    },
    "accelerator": "GPU"
  },
  "cells": [
    {
      "cell_type": "markdown",
      "metadata": {
        "id": "view-in-github",
        "colab_type": "text"
      },
      "source": [
        "<a href=\"https://colab.research.google.com/github/anaiy2004/Image-Classification/blob/master/Cifar10.ipynb\" target=\"_parent\"><img src=\"https://colab.research.google.com/assets/colab-badge.svg\" alt=\"Open In Colab\"/></a>"
      ]
    },
    {
      "cell_type": "code",
      "metadata": {
        "id": "sKl-LcJb0k1Q",
        "colab_type": "code",
        "colab": {
          "base_uri": "https://localhost:8080/",
          "height": 34
        },
        "outputId": "fd51b78c-c03c-4694-fb79-75b0a9926bb7"
      },
      "source": [
        "# This is a model for the image classification dataset CIFAR-10\n",
        "# I am using a CNN which uses BatchNormalization, Dropout, and MaxPooling\n",
        "# I think that some ways to optimize this model may be to add EarlyStopping and by using the return_best_weights feature.\n",
        "# Next steps will be to implement a ResNet on this dataset and learn more about image classification's real-time applications.\n",
        "\n",
        "import keras\n",
        "from keras.datasets import cifar10\n",
        "from keras.preprocessing.image import ImageDataGenerator\n",
        "from keras.models import Sequential\n",
        "from keras.layers import Dense, Dropout, Activation, Flatten, BatchNormalization\n",
        "from keras.layers import Conv2D, MaxPooling2D\n",
        "import os\n",
        "import random\n",
        "random.seed(100)\n",
        "(x_train, y_train), (x_test, y_test) = cifar10.load_data() #loads in the data\n",
        "\n",
        "y_train = keras.utils.to_categorical(y_train, num_classes) #labels the training data\n",
        "y_test = keras.utils.to_categorical(y_test, num_classes) #labels the test data\n",
        "print(x_train.shape)\n"
      ],
      "execution_count": 2,
      "outputs": [
        {
          "output_type": "stream",
          "text": [
            "(50000, 32, 32, 3)\n"
          ],
          "name": "stdout"
        }
      ]
    },
    {
      "cell_type": "code",
      "metadata": {
        "id": "DHgejeMo2qIP",
        "colab_type": "code",
        "colab": {}
      },
      "source": [
        "# Hyperparameters\n",
        "batch_size = 32\n",
        "num_classes = 10\n",
        "epochs = 15"
      ],
      "execution_count": 3,
      "outputs": []
    },
    {
      "cell_type": "code",
      "metadata": {
        "id": "_YGs2Prw1u3b",
        "colab_type": "code",
        "colab": {
          "base_uri": "https://localhost:8080/",
          "height": 935
        },
        "outputId": "c42636b7-e334-4e55-cd31-2d648546271c"
      },
      "source": [
        "model = Sequential()\n",
        "model.add(Conv2D(64, (2, 2), padding='same', input_shape=x_train.shape[1:])) \n",
        "model.add(Activation('relu'))\n",
        "model.add(BatchNormalization())\n",
        "model.add(Conv2D(64, (4, 4 ))) \n",
        "model.add(Activation('relu'))\n",
        "model.add(BatchNormalization())\n",
        "model.add(MaxPooling2D(pool_size=(2, 2)))\n",
        "model.add(Dropout(0.25))\n",
        "model.add(Conv2D(64, (7, 7), padding='same'))\n",
        "model.add(Activation('relu'))\n",
        "model.add(BatchNormalization())\n",
        "model.add(MaxPooling2D(pool_size=(2, 2)))\n",
        "model.add(Conv2D(64, (5, 5)))\n",
        "model.add(Activation('relu'))\n",
        "model.add(BatchNormalization())\n",
        "model.add(MaxPooling2D(pool_size=(3, 3)))\n",
        "model.add(Dropout(0.25))\n",
        "model.add(Flatten())\n",
        "model.add(Dense(512))\n",
        "model.add(Activation('relu'))\n",
        "model.add(Dropout(0.25))\n",
        "model.add(Dense(num_classes))\n",
        "model.add(Activation('softmax'))\n",
        "opt = keras.optimizers.rmsprop(lr=0.0001, decay=1e-6)\n",
        "model.compile(loss='categorical_crossentropy',\n",
        "              optimizer=opt,\n",
        "              metrics=['accuracy'])\n",
        "model.summary()"
      ],
      "execution_count": 5,
      "outputs": [
        {
          "output_type": "stream",
          "text": [
            "Model: \"sequential_3\"\n",
            "_________________________________________________________________\n",
            "Layer (type)                 Output Shape              Param #   \n",
            "=================================================================\n",
            "conv2d_9 (Conv2D)            (None, 32, 32, 64)        832       \n",
            "_________________________________________________________________\n",
            "activation_13 (Activation)   (None, 32, 32, 64)        0         \n",
            "_________________________________________________________________\n",
            "batch_normalization_9 (Batch (None, 32, 32, 64)        256       \n",
            "_________________________________________________________________\n",
            "conv2d_10 (Conv2D)           (None, 29, 29, 64)        65600     \n",
            "_________________________________________________________________\n",
            "activation_14 (Activation)   (None, 29, 29, 64)        0         \n",
            "_________________________________________________________________\n",
            "batch_normalization_10 (Batc (None, 29, 29, 64)        256       \n",
            "_________________________________________________________________\n",
            "max_pooling2d_7 (MaxPooling2 (None, 14, 14, 64)        0         \n",
            "_________________________________________________________________\n",
            "dropout_7 (Dropout)          (None, 14, 14, 64)        0         \n",
            "_________________________________________________________________\n",
            "conv2d_11 (Conv2D)           (None, 14, 14, 64)        200768    \n",
            "_________________________________________________________________\n",
            "activation_15 (Activation)   (None, 14, 14, 64)        0         \n",
            "_________________________________________________________________\n",
            "batch_normalization_11 (Batc (None, 14, 14, 64)        256       \n",
            "_________________________________________________________________\n",
            "max_pooling2d_8 (MaxPooling2 (None, 7, 7, 64)          0         \n",
            "_________________________________________________________________\n",
            "conv2d_12 (Conv2D)           (None, 3, 3, 64)          102464    \n",
            "_________________________________________________________________\n",
            "activation_16 (Activation)   (None, 3, 3, 64)          0         \n",
            "_________________________________________________________________\n",
            "batch_normalization_12 (Batc (None, 3, 3, 64)          256       \n",
            "_________________________________________________________________\n",
            "max_pooling2d_9 (MaxPooling2 (None, 1, 1, 64)          0         \n",
            "_________________________________________________________________\n",
            "dropout_8 (Dropout)          (None, 1, 1, 64)          0         \n",
            "_________________________________________________________________\n",
            "flatten_3 (Flatten)          (None, 64)                0         \n",
            "_________________________________________________________________\n",
            "dense_5 (Dense)              (None, 512)               33280     \n",
            "_________________________________________________________________\n",
            "activation_17 (Activation)   (None, 512)               0         \n",
            "_________________________________________________________________\n",
            "dropout_9 (Dropout)          (None, 512)               0         \n",
            "_________________________________________________________________\n",
            "dense_6 (Dense)              (None, 10)                5130      \n",
            "_________________________________________________________________\n",
            "activation_18 (Activation)   (None, 10)                0         \n",
            "=================================================================\n",
            "Total params: 409,098\n",
            "Trainable params: 408,586\n",
            "Non-trainable params: 512\n",
            "_________________________________________________________________\n"
          ],
          "name": "stdout"
        }
      ]
    },
    {
      "cell_type": "code",
      "metadata": {
        "id": "XeDFgHM92bXp",
        "colab_type": "code",
        "colab": {}
      },
      "source": [
        "x_train = x_train.astype('float32')\n",
        "x_test = x_test.astype('float32')\n",
        "x_train /= 255\n",
        "x_test /= 255\n"
      ],
      "execution_count": 6,
      "outputs": []
    },
    {
      "cell_type": "code",
      "metadata": {
        "id": "Ede-fby-2hm_",
        "colab_type": "code",
        "colab": {
          "base_uri": "https://localhost:8080/",
          "height": 561
        },
        "outputId": "60d472a0-bbdb-42ba-c7b4-2c125457d0b6"
      },
      "source": [
        "model.fit(x_train, y_train,\n",
        "            batch_size= batch_size,\n",
        "            epochs=epochs,\n",
        "            validation_split = 0.2,\n",
        "              shuffle=True)"
      ],
      "execution_count": 7,
      "outputs": [
        {
          "output_type": "stream",
          "text": [
            "Train on 40000 samples, validate on 10000 samples\n",
            "Epoch 1/15\n",
            "40000/40000 [==============================] - 16s 403us/step - loss: 1.6587 - accuracy: 0.3919 - val_loss: 1.2637 - val_accuracy: 0.5418\n",
            "Epoch 2/15\n",
            "40000/40000 [==============================] - 16s 388us/step - loss: 1.2747 - accuracy: 0.5383 - val_loss: 1.1248 - val_accuracy: 0.5967\n",
            "Epoch 3/15\n",
            "40000/40000 [==============================] - 16s 388us/step - loss: 1.1156 - accuracy: 0.6004 - val_loss: 0.9355 - val_accuracy: 0.6681\n",
            "Epoch 4/15\n",
            "40000/40000 [==============================] - 15s 387us/step - loss: 1.0008 - accuracy: 0.6464 - val_loss: 0.8581 - val_accuracy: 0.6962\n",
            "Epoch 5/15\n",
            "40000/40000 [==============================] - 15s 387us/step - loss: 0.9244 - accuracy: 0.6738 - val_loss: 0.8020 - val_accuracy: 0.7114\n",
            "Epoch 6/15\n",
            "40000/40000 [==============================] - 15s 386us/step - loss: 0.8518 - accuracy: 0.7020 - val_loss: 0.7672 - val_accuracy: 0.7257\n",
            "Epoch 7/15\n",
            "40000/40000 [==============================] - 16s 392us/step - loss: 0.7891 - accuracy: 0.7233 - val_loss: 0.7460 - val_accuracy: 0.7377\n",
            "Epoch 8/15\n",
            "40000/40000 [==============================] - 16s 394us/step - loss: 0.7511 - accuracy: 0.7369 - val_loss: 0.7069 - val_accuracy: 0.7512\n",
            "Epoch 9/15\n",
            "40000/40000 [==============================] - 16s 388us/step - loss: 0.7005 - accuracy: 0.7554 - val_loss: 0.6839 - val_accuracy: 0.7601\n",
            "Epoch 10/15\n",
            "40000/40000 [==============================] - 15s 385us/step - loss: 0.6616 - accuracy: 0.7689 - val_loss: 0.6599 - val_accuracy: 0.7704\n",
            "Epoch 11/15\n",
            "40000/40000 [==============================] - 15s 381us/step - loss: 0.6318 - accuracy: 0.7802 - val_loss: 0.6776 - val_accuracy: 0.7668\n",
            "Epoch 12/15\n",
            "40000/40000 [==============================] - 15s 387us/step - loss: 0.5987 - accuracy: 0.7919 - val_loss: 0.6512 - val_accuracy: 0.7779\n",
            "Epoch 13/15\n",
            "40000/40000 [==============================] - 15s 387us/step - loss: 0.5726 - accuracy: 0.8009 - val_loss: 0.6469 - val_accuracy: 0.7788\n",
            "Epoch 14/15\n",
            "40000/40000 [==============================] - 15s 384us/step - loss: 0.5445 - accuracy: 0.8123 - val_loss: 0.6520 - val_accuracy: 0.7807\n",
            "Epoch 15/15\n",
            "40000/40000 [==============================] - 15s 384us/step - loss: 0.5162 - accuracy: 0.8212 - val_loss: 0.6247 - val_accuracy: 0.7869\n"
          ],
          "name": "stdout"
        },
        {
          "output_type": "execute_result",
          "data": {
            "text/plain": [
              "<keras.callbacks.callbacks.History at 0x7f3df2e59898>"
            ]
          },
          "metadata": {
            "tags": []
          },
          "execution_count": 7
        }
      ]
    }
  ]
}